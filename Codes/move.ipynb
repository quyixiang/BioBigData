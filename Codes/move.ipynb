{
 "cells": [
  {
   "cell_type": "code",
   "execution_count": 5,
   "metadata": {
    "ExecuteTime": {
     "end_time": "2020-05-01T15:19:31.929094Z",
     "start_time": "2020-05-01T15:19:31.925139Z"
    }
   },
   "outputs": [],
   "source": [
    "import os\n",
    "import shutil\n",
    "import pandas as pd"
   ]
  },
  {
   "cell_type": "code",
   "execution_count": 3,
   "metadata": {
    "ExecuteTime": {
     "end_time": "2020-05-01T15:19:41.000084Z",
     "start_time": "2020-05-01T15:19:40.929996Z"
    }
   },
   "outputs": [
    {
     "output_type": "execute_result",
     "data": {
      "text/plain": "                 name  class\n0          Test_1.png      6\n1          Test_2.png      7\n2          Test_3.png      1\n3          Test_4.png      2\n4          Test_5.png      0\n...               ...    ...\n12495  Test_12496.png      7\n12496  Test_12497.png      6\n12497  Test_12498.png      5\n12498  Test_12499.png      2\n12499  Test_12500.png      8\n\n[12500 rows x 2 columns]",
      "text/html": "<div>\n<style scoped>\n    .dataframe tbody tr th:only-of-type {\n        vertical-align: middle;\n    }\n\n    .dataframe tbody tr th {\n        vertical-align: top;\n    }\n\n    .dataframe thead th {\n        text-align: right;\n    }\n</style>\n<table border=\"1\" class=\"dataframe\">\n  <thead>\n    <tr style=\"text-align: right;\">\n      <th></th>\n      <th>name</th>\n      <th>class</th>\n    </tr>\n  </thead>\n  <tbody>\n    <tr>\n      <th>0</th>\n      <td>Test_1.png</td>\n      <td>6</td>\n    </tr>\n    <tr>\n      <th>1</th>\n      <td>Test_2.png</td>\n      <td>7</td>\n    </tr>\n    <tr>\n      <th>2</th>\n      <td>Test_3.png</td>\n      <td>1</td>\n    </tr>\n    <tr>\n      <th>3</th>\n      <td>Test_4.png</td>\n      <td>2</td>\n    </tr>\n    <tr>\n      <th>4</th>\n      <td>Test_5.png</td>\n      <td>0</td>\n    </tr>\n    <tr>\n      <th>...</th>\n      <td>...</td>\n      <td>...</td>\n    </tr>\n    <tr>\n      <th>12495</th>\n      <td>Test_12496.png</td>\n      <td>7</td>\n    </tr>\n    <tr>\n      <th>12496</th>\n      <td>Test_12497.png</td>\n      <td>6</td>\n    </tr>\n    <tr>\n      <th>12497</th>\n      <td>Test_12498.png</td>\n      <td>5</td>\n    </tr>\n    <tr>\n      <th>12498</th>\n      <td>Test_12499.png</td>\n      <td>2</td>\n    </tr>\n    <tr>\n      <th>12499</th>\n      <td>Test_12500.png</td>\n      <td>8</td>\n    </tr>\n  </tbody>\n</table>\n<p>12500 rows × 2 columns</p>\n</div>"
     },
     "metadata": {},
     "execution_count": 3
    }
   ],
   "source": [
    "is_path = 'test_img/1'\n",
    "not_path = 'test_img/0'\n",
    "labels = pd.read_csv('E3_data/Test_labels.txt', sep='\\t', header=None)\n",
    "labels.columns = ['name', 'class']\n",
    "labels"
   ]
  },
  {
   "cell_type": "code",
   "execution_count": 11,
   "metadata": {},
   "outputs": [],
   "source": [
    "def create_dir(dir_path):\n",
    "    for i in range(0,12):\n",
    "        is_exist = os.path.exists(dir_path+str(i))\n",
    "        if not is_exist:\n",
    "            os.makedirs(dir_path+str(i))\n",
    "\n",
    "create_dir('E3_data/test_img/')\n",
    "create_dir('E3_data/train_img/')\n",
    "create_dir('E3_data/val_img/')"
   ]
  },
  {
   "cell_type": "code",
   "execution_count": 31,
   "metadata": {},
   "outputs": [],
   "source": [
    "create_dir('E3_data/temp_train_img/')"
   ]
  },
  {
   "cell_type": "code",
   "execution_count": 26,
   "metadata": {
    "ExecuteTime": {
     "end_time": "2020-05-01T15:19:52.289917Z",
     "start_time": "2020-05-01T15:19:52.284933Z"
    }
   },
   "outputs": [],
   "source": [
    "def read_labels(label_path):\n",
    "    labels = pd.read_csv(label_path, sep='\\t', header=None)\n",
    "    labels.columns = ['name', 'class']\n",
    "    return labels\n",
    "\n",
    "def move(label_path, image_path):\n",
    "    labels = read_labels(label_path)\n",
    "    for name, label in labels.values:\n",
    "        if os.path.exists(image_path + name):\n",
    "            shutil.move(image_path + name, image_path + str(label))\n",
    "\n"
   ]
  },
  {
   "cell_type": "code",
   "execution_count": 27,
   "metadata": {
    "tags": [
     "outputPrepend",
     "outputPrepend",
     "outputPrepend",
     "outputPrepend",
     "outputPrepend",
     "outputPrepend"
    ]
   },
   "outputs": [],
   "source": [
    "move('E3_data/Test_labels.txt', 'E3_data/test_img/')"
   ]
  },
  {
   "cell_type": "code",
   "execution_count": 28,
   "metadata": {},
   "outputs": [],
   "source": [
    "move('E3_data/val_labels.txt', 'E3_data/val_img/')"
   ]
  },
  {
   "cell_type": "code",
   "execution_count": 29,
   "metadata": {},
   "outputs": [],
   "source": [
    "move('E3_data/train_labels.txt', 'E3_data/train_img/')"
   ]
  }
 ],
 "metadata": {
  "hide_input": false,
  "kernelspec": {
   "display_name": "Python 3",
   "language": "python",
   "name": "python3"
  },
  "language_info": {
   "codemirror_mode": {
    "name": "ipython",
    "version": 3
   },
   "file_extension": ".py",
   "mimetype": "text/x-python",
   "name": "python",
   "nbconvert_exporter": "python",
   "pygments_lexer": "ipython3",
   "version": "3.7.6-final"
  },
  "varInspector": {
   "cols": {
    "lenName": 16,
    "lenType": 16,
    "lenVar": 40
   },
   "kernels_config": {
    "python": {
     "delete_cmd_postfix": "",
     "delete_cmd_prefix": "del ",
     "library": "var_list.py",
     "varRefreshCmd": "print(var_dic_list())"
    },
    "r": {
     "delete_cmd_postfix": ") ",
     "delete_cmd_prefix": "rm(",
     "library": "var_list.r",
     "varRefreshCmd": "cat(var_dic_list()) "
    }
   },
   "types_to_exclude": [
    "module",
    "function",
    "builtin_function_or_method",
    "instance",
    "_Feature"
   ],
   "window_display": true
  }
 },
 "nbformat": 4,
 "nbformat_minor": 4
}