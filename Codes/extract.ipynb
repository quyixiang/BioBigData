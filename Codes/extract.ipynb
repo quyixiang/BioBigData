{
 "cells": [
  {
   "cell_type": "code",
   "execution_count": 44,
   "metadata": {
    "ExecuteTime": {
     "end_time": "2020-04-26T13:05:25.516502Z",
     "start_time": "2020-04-26T13:05:25.511515Z"
    }
   },
   "outputs": [],
   "source": [
    "from PIL import Image\n",
    "import numpy as np\n",
    "import torch\n",
    "import torchvision\n",
    "import pandas as pd"
   ]
  },
  {
   "cell_type": "code",
   "execution_count": 63,
   "metadata": {},
   "outputs": [],
   "source": [
    "TEST_PATH = ['E3_data/test_img/', 'E3_data/Test_labels.txt']\n",
    "TRAIN_PATH = ['E3_data/train_img/', 'E3_data/train_labels.txt']\n",
    "VAL_PATH = ['E3_data/val_img/', 'E3_data/val_labels.txt']"
   ]
  },
  {
   "cell_type": "code",
   "execution_count": 50,
   "metadata": {
    "ExecuteTime": {
     "end_time": "2020-04-26T13:03:01.837573Z",
     "start_time": "2020-04-26T13:02:36.967170Z"
    }
   },
   "outputs": [
    {
     "output_type": "execute_result",
     "data": {
      "text/plain": "array([[17, 17],\n       [19, 20],\n       [23, 32],\n       ...,\n       [ 7,  4],\n       [ 7,  3],\n       [ 7,  5]])"
     },
     "metadata": {},
     "execution_count": 50
    }
   ],
   "source": [
    "img = Image.open('E3_data/test_img/Test_1.png')\n",
    "data = img.getdata()\n",
    "r = [(d[0], 0, 0) for d in data]\n",
    "g = [(0, d[1], 0) for d in data]\n",
    "b = [(0, 0, d[2]) for d in data]\n",
    "#img.putdata(r)\n",
    "#img.show()\n",
    "#img.putdata(g)\n",
    "#img.show()\n",
    "comp = [(d[0], d[1]) for d in data]\n",
    "comp_array = np.array(comp)\n",
    "comp_array\n",
    "comp_torch = torch.from_numpy(comp_array).type(torch.LongTensor)\n",
    "comp_torch\n",
    "s = comp_torch.view(2, 64, 64).float()\n",
    "s.size()\n",
    "comp_array"
   ]
  },
  {
   "cell_type": "code",
   "execution_count": 121,
   "metadata": {
    "ExecuteTime": {
     "end_time": "2020-04-26T13:06:25.378089Z",
     "start_time": "2020-04-26T13:06:25.373102Z"
    }
   },
   "outputs": [],
   "source": [
    "def get_data(img_path):\n",
    "    img = Image.open(img_path)\n",
    "    array = []\n",
    "    data = img.getdata()\n",
    "    for d in data:\n",
    "        array.append(d[0])\n",
    "        array.append(d[1])\n",
    "    return array\n",
    "\n",
    "def read_labels(label_path):\n",
    "    labels = pd.read_csv(label_path, sep='\\t', header=None)\n",
    "    labels.columns = ['name', 'class']\n",
    "    return labels\n",
    "\n",
    "def get_label(img_path, labels):\n",
    "    label = labels[labels['name'] == img_path]['class']\n",
    "    return int(label)\n",
    "\n",
    "def create_csv(PATH):\n",
    "    full_data = []\n",
    "    labels = read_labels(PATH[1])\n",
    "    for file in labels['name']:\n",
    "        img_path = PATH[0] + file\n",
    "        data = get_data(img_path)\n",
    "        label = get_label(file, labels)\n",
    "        line = [label] + data\n",
    "        full_data.append(line)\n",
    "    res = pd.DataFrame(full_data)\n",
    "    return res\n"
   ]
  },
  {
   "cell_type": "code",
   "execution_count": 123,
   "metadata": {
    "ExecuteTime": {
     "end_time": "2020-04-26T13:08:55.100658Z",
     "start_time": "2020-04-26T13:08:55.089652Z"
    }
   },
   "outputs": [],
   "source": [
    "test_csv = create_csv(TEST_PATH)"
   ]
  },
  {
   "cell_type": "code",
   "execution_count": 125,
   "metadata": {},
   "outputs": [],
   "source": [
    "val_csv = create_csv(VAL_PATH)"
   ]
  },
  {
   "cell_type": "code",
   "execution_count": 128,
   "metadata": {
    "ExecuteTime": {
     "end_time": "2020-04-26T13:10:54.388531Z",
     "start_time": "2020-04-26T13:10:54.381918Z"
    }
   },
   "outputs": [],
   "source": [
    "train_csv = create_csv(TRAIN_PATH)"
   ]
  },
  {
   "cell_type": "code",
   "execution_count": 124,
   "metadata": {},
   "outputs": [],
   "source": [
    "test_csv.to_csv('test.csv', header = False, index = False)"
   ]
  },
  {
   "cell_type": "code",
   "execution_count": 127,
   "metadata": {},
   "outputs": [],
   "source": [
    "val_csv.to_csv('val.csv', header = False, index = False)"
   ]
  },
  {
   "cell_type": "code",
   "execution_count": 129,
   "metadata": {},
   "outputs": [],
   "source": [
    "train_csv.to_csv('train.csv', header = False, index = False)"
   ]
  },
  {
   "cell_type": "code",
   "execution_count": null,
   "metadata": {},
   "outputs": [],
   "source": [
    "temp_train.csv"
   ]
  }
 ],
 "metadata": {
  "hide_input": false,
  "kernelspec": {
   "display_name": "Python 3",
   "language": "python",
   "name": "python3"
  },
  "language_info": {
   "codemirror_mode": {
    "name": "ipython",
    "version": 3
   },
   "file_extension": ".py",
   "mimetype": "text/x-python",
   "name": "python",
   "nbconvert_exporter": "python",
   "pygments_lexer": "ipython3",
   "version": "3.7.6-final"
  },
  "varInspector": {
   "cols": {
    "lenName": 16,
    "lenType": 16,
    "lenVar": 40
   },
   "kernels_config": {
    "python": {
     "delete_cmd_postfix": "",
     "delete_cmd_prefix": "del ",
     "library": "var_list.py",
     "varRefreshCmd": "print(var_dic_list())"
    },
    "r": {
     "delete_cmd_postfix": ") ",
     "delete_cmd_prefix": "rm(",
     "library": "var_list.r",
     "varRefreshCmd": "cat(var_dic_list()) "
    }
   },
   "position": {
    "height": "285.4px",
    "left": "1166px",
    "right": "20px",
    "top": "120px",
    "width": "350px"
   },
   "types_to_exclude": [
    "module",
    "function",
    "builtin_function_or_method",
    "instance",
    "_Feature"
   ],
   "window_display": true
  }
 },
 "nbformat": 4,
 "nbformat_minor": 4
}